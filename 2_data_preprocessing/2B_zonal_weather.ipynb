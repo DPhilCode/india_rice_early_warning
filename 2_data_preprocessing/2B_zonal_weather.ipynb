{
 "cells": [
  {
   "cell_type": "markdown",
   "metadata": {},
   "source": [
    "### Zonal statistics on ERA5 weather data\n",
    "- Objectives: \n",
    "    - This notebook conducts zonal statistics on Indian weather data to aggregate the data at district level.\n",
    "    - This is done in order to aggregate weather data at the same level as district-level rice yields for ML."
   ]
  },
  {
   "cell_type": "markdown",
   "metadata": {},
   "source": [
    "Import modules"
   ]
  },
  {
   "cell_type": "code",
   "execution_count": 1,
   "metadata": {},
   "outputs": [],
   "source": [
    "# Import necessary libraries\n",
    "import xarray as xr\n",
    "import rioxarray\n",
    "import geopandas as gpd\n",
    "import rasterio as rio\n",
    "import matplotlib.pyplot as plt\n",
    "import regionmask"
   ]
  },
  {
   "cell_type": "markdown",
   "metadata": {},
   "source": [
    "Load data"
   ]
  },
  {
   "cell_type": "code",
   "execution_count": 2,
   "metadata": {},
   "outputs": [],
   "source": [
    "# Load India shapefile\n",
    "india_shapefile = gpd.read_file(r\"C:\\Users\\djava\\OneDrive\\Documents\\Oxford\\Projects\\india_rice_early_warning\\4_data\\RAW_DATA\\SHAPEFILE\\gadm36_IND_0.shp\")\n",
    "\n",
    "# Load India districts shapefile\n",
    "india_districts_shapefile = gpd.read_file(r\"C:\\Users\\djava\\OneDrive\\Documents\\Oxford\\Projects\\india_rice_early_warning\\4_data\\RAW_DATA\\SHAPEFILE\\gadm36_IND_2.shp\")"
   ]
  },
  {
   "cell_type": "code",
   "execution_count": 52,
   "metadata": {},
   "outputs": [],
   "source": [
    "# Load weather data (.nc format)\n",
    "climate_data = xr.open_dataset(r\"C:\\Users\\djava\\OneDrive\\Documents\\Oxford\\Projects\\india_rice_early_warning\\4_data\\RAW_DATA\\CDS\\weather_data.nc\")\n",
    "\n",
    "# Convert temperature to celsius  \n",
    "climate_data['t2m'] = climate_data['t2m'] - 273.15"
   ]
  },
  {
   "cell_type": "markdown",
   "metadata": {},
   "source": [
    "Apply zonal statistics"
   ]
  },
  {
   "cell_type": "code",
   "execution_count": 64,
   "metadata": {},
   "outputs": [],
   "source": [
    "# 1. Create mask from shapefile and xarray climate_data\n",
    "mask = regionmask.from_geopandas(india_districts_shapefile, \n",
    "                                 names=\"GID_2\", \n",
    "                                 abbrevs=\"_from_name\").mask(climate_data['longitude'],\n",
    "                                                            climate_data['latitude'])"
   ]
  },
  {
   "cell_type": "code",
   "execution_count": 74,
   "metadata": {},
   "outputs": [],
   "source": [
    "# 2. Aggregate variables in the xarray using the mask\n",
    "regional_agg_dr = climate_data.groupby(mask).mean() # max, min, mapping custom functions also work"
   ]
  },
  {
   "cell_type": "code",
   "execution_count": 75,
   "metadata": {},
   "outputs": [],
   "source": [
    "# 3. Convert the aggregated xarray to a dataframe\n",
    "regional_agg = regional_agg_dr.to_dataframe()\n",
    "regional_agg.reset_index(inplace=True)"
   ]
  },
  {
   "cell_type": "code",
   "execution_count": 76,
   "metadata": {},
   "outputs": [],
   "source": [
    "# add region information and drop mask column\n",
    "regional_agg['GID_2'] = regional_agg.apply(lambda x: india_districts_shapefile['GID_2'][int(x['mask'])], axis=1)\n",
    "regional_agg = regional_agg.drop(columns=['mask'])\n",
    "# regional_agg = regional_agg.drop(columns=['crs'])"
   ]
  },
  {
   "cell_type": "code",
   "execution_count": 77,
   "metadata": {},
   "outputs": [],
   "source": [
    "# Query to keep data up to end of 2022 and keep only expver 1\n",
    "regional_agg = regional_agg.query('expver == 1')\n",
    "regional_agg = regional_agg.query('time < \"2023-01-01\"')"
   ]
  },
  {
   "cell_type": "code",
   "execution_count": 78,
   "metadata": {},
   "outputs": [
    {
     "data": {
      "text/html": [
       "<div>\n",
       "<style scoped>\n",
       "    .dataframe tbody tr th:only-of-type {\n",
       "        vertical-align: middle;\n",
       "    }\n",
       "\n",
       "    .dataframe tbody tr th {\n",
       "        vertical-align: top;\n",
       "    }\n",
       "\n",
       "    .dataframe thead th {\n",
       "        text-align: right;\n",
       "    }\n",
       "</style>\n",
       "<table border=\"1\" class=\"dataframe\">\n",
       "  <thead>\n",
       "    <tr style=\"text-align: right;\">\n",
       "      <th></th>\n",
       "      <th>time</th>\n",
       "      <th>expver</th>\n",
       "      <th>t2m</th>\n",
       "      <th>tp</th>\n",
       "      <th>GID_2</th>\n",
       "    </tr>\n",
       "  </thead>\n",
       "  <tbody>\n",
       "    <tr>\n",
       "      <th>0</th>\n",
       "      <td>2000-01-01</td>\n",
       "      <td>1</td>\n",
       "      <td>25.948486</td>\n",
       "      <td>0.000254</td>\n",
       "      <td>IND.1.2_1</td>\n",
       "    </tr>\n",
       "    <tr>\n",
       "      <th>2</th>\n",
       "      <td>2000-02-01</td>\n",
       "      <td>1</td>\n",
       "      <td>25.903374</td>\n",
       "      <td>0.001822</td>\n",
       "      <td>IND.1.2_1</td>\n",
       "    </tr>\n",
       "    <tr>\n",
       "      <th>4</th>\n",
       "      <td>2000-03-01</td>\n",
       "      <td>1</td>\n",
       "      <td>26.487930</td>\n",
       "      <td>0.005368</td>\n",
       "      <td>IND.1.2_1</td>\n",
       "    </tr>\n",
       "    <tr>\n",
       "      <th>6</th>\n",
       "      <td>2000-04-01</td>\n",
       "      <td>1</td>\n",
       "      <td>27.429024</td>\n",
       "      <td>0.005059</td>\n",
       "      <td>IND.1.2_1</td>\n",
       "    </tr>\n",
       "    <tr>\n",
       "      <th>8</th>\n",
       "      <td>2000-05-01</td>\n",
       "      <td>1</td>\n",
       "      <td>27.479309</td>\n",
       "      <td>0.009505</td>\n",
       "      <td>IND.1.2_1</td>\n",
       "    </tr>\n",
       "    <tr>\n",
       "      <th>...</th>\n",
       "      <td>...</td>\n",
       "      <td>...</td>\n",
       "      <td>...</td>\n",
       "      <td>...</td>\n",
       "      <td>...</td>\n",
       "    </tr>\n",
       "    <tr>\n",
       "      <th>371198</th>\n",
       "      <td>2022-08-01</td>\n",
       "      <td>1</td>\n",
       "      <td>30.092602</td>\n",
       "      <td>0.007680</td>\n",
       "      <td>IND.36.20_1</td>\n",
       "    </tr>\n",
       "    <tr>\n",
       "      <th>371200</th>\n",
       "      <td>2022-09-01</td>\n",
       "      <td>1</td>\n",
       "      <td>28.889685</td>\n",
       "      <td>0.011895</td>\n",
       "      <td>IND.36.20_1</td>\n",
       "    </tr>\n",
       "    <tr>\n",
       "      <th>371202</th>\n",
       "      <td>2022-10-01</td>\n",
       "      <td>1</td>\n",
       "      <td>26.727991</td>\n",
       "      <td>0.005235</td>\n",
       "      <td>IND.36.20_1</td>\n",
       "    </tr>\n",
       "    <tr>\n",
       "      <th>371204</th>\n",
       "      <td>2022-11-01</td>\n",
       "      <td>1</td>\n",
       "      <td>22.756390</td>\n",
       "      <td>0.000031</td>\n",
       "      <td>IND.36.20_1</td>\n",
       "    </tr>\n",
       "    <tr>\n",
       "      <th>371206</th>\n",
       "      <td>2022-12-01</td>\n",
       "      <td>1</td>\n",
       "      <td>18.988287</td>\n",
       "      <td>0.000025</td>\n",
       "      <td>IND.36.20_1</td>\n",
       "    </tr>\n",
       "  </tbody>\n",
       "</table>\n",
       "<p>179124 rows × 5 columns</p>\n",
       "</div>"
      ],
      "text/plain": [
       "             time  expver        t2m        tp        GID_2\n",
       "0      2000-01-01       1  25.948486  0.000254    IND.1.2_1\n",
       "2      2000-02-01       1  25.903374  0.001822    IND.1.2_1\n",
       "4      2000-03-01       1  26.487930  0.005368    IND.1.2_1\n",
       "6      2000-04-01       1  27.429024  0.005059    IND.1.2_1\n",
       "8      2000-05-01       1  27.479309  0.009505    IND.1.2_1\n",
       "...           ...     ...        ...       ...          ...\n",
       "371198 2022-08-01       1  30.092602  0.007680  IND.36.20_1\n",
       "371200 2022-09-01       1  28.889685  0.011895  IND.36.20_1\n",
       "371202 2022-10-01       1  26.727991  0.005235  IND.36.20_1\n",
       "371204 2022-11-01       1  22.756390  0.000031  IND.36.20_1\n",
       "371206 2022-12-01       1  18.988287  0.000025  IND.36.20_1\n",
       "\n",
       "[179124 rows x 5 columns]"
      ]
     },
     "execution_count": 78,
     "metadata": {},
     "output_type": "execute_result"
    }
   ],
   "source": [
    "# order dataset by 'tp' variable from biggest to smallest\n",
    "regional_agg"
   ]
  },
  {
   "cell_type": "markdown",
   "metadata": {},
   "source": [
    "Save data"
   ]
  },
  {
   "cell_type": "code",
   "execution_count": 80,
   "metadata": {},
   "outputs": [],
   "source": [
    "# merge to india districts shapefile\n",
    "india_districts_weather = india_districts_shapefile.merge(regional_agg, on='GID_2')"
   ]
  },
  {
   "cell_type": "code",
   "execution_count": 82,
   "metadata": {},
   "outputs": [],
   "source": [
    "# Keep only the columns GID_0, NAME_0, GID_1, NAME_1, GID_2, NAME_2, time, t2m, tp, region\n",
    "india_districts_weather = india_districts_weather[['GID_0', 'NAME_0', 'GID_1', 'NAME_1', 'GID_2', 'NAME_2', 'time', 't2m', 'tp']]"
   ]
  },
  {
   "cell_type": "code",
   "execution_count": 84,
   "metadata": {},
   "outputs": [
    {
     "data": {
      "text/html": [
       "<div>\n",
       "<style scoped>\n",
       "    .dataframe tbody tr th:only-of-type {\n",
       "        vertical-align: middle;\n",
       "    }\n",
       "\n",
       "    .dataframe tbody tr th {\n",
       "        vertical-align: top;\n",
       "    }\n",
       "\n",
       "    .dataframe thead th {\n",
       "        text-align: right;\n",
       "    }\n",
       "</style>\n",
       "<table border=\"1\" class=\"dataframe\">\n",
       "  <thead>\n",
       "    <tr style=\"text-align: right;\">\n",
       "      <th></th>\n",
       "      <th>GID_0</th>\n",
       "      <th>NAME_0</th>\n",
       "      <th>GID_1</th>\n",
       "      <th>NAME_1</th>\n",
       "      <th>GID_2</th>\n",
       "      <th>NAME_2</th>\n",
       "      <th>time</th>\n",
       "      <th>t2m</th>\n",
       "      <th>tp</th>\n",
       "    </tr>\n",
       "  </thead>\n",
       "  <tbody>\n",
       "    <tr>\n",
       "      <th>0</th>\n",
       "      <td>IND</td>\n",
       "      <td>India</td>\n",
       "      <td>IND.1_1</td>\n",
       "      <td>Andaman and Nicobar</td>\n",
       "      <td>IND.1.2_1</td>\n",
       "      <td>North and Middle Andaman</td>\n",
       "      <td>2000-01-01</td>\n",
       "      <td>25.948486</td>\n",
       "      <td>0.000254</td>\n",
       "    </tr>\n",
       "    <tr>\n",
       "      <th>1</th>\n",
       "      <td>IND</td>\n",
       "      <td>India</td>\n",
       "      <td>IND.1_1</td>\n",
       "      <td>Andaman and Nicobar</td>\n",
       "      <td>IND.1.2_1</td>\n",
       "      <td>North and Middle Andaman</td>\n",
       "      <td>2000-02-01</td>\n",
       "      <td>25.903374</td>\n",
       "      <td>0.001822</td>\n",
       "    </tr>\n",
       "    <tr>\n",
       "      <th>2</th>\n",
       "      <td>IND</td>\n",
       "      <td>India</td>\n",
       "      <td>IND.1_1</td>\n",
       "      <td>Andaman and Nicobar</td>\n",
       "      <td>IND.1.2_1</td>\n",
       "      <td>North and Middle Andaman</td>\n",
       "      <td>2000-03-01</td>\n",
       "      <td>26.487930</td>\n",
       "      <td>0.005368</td>\n",
       "    </tr>\n",
       "    <tr>\n",
       "      <th>3</th>\n",
       "      <td>IND</td>\n",
       "      <td>India</td>\n",
       "      <td>IND.1_1</td>\n",
       "      <td>Andaman and Nicobar</td>\n",
       "      <td>IND.1.2_1</td>\n",
       "      <td>North and Middle Andaman</td>\n",
       "      <td>2000-04-01</td>\n",
       "      <td>27.429024</td>\n",
       "      <td>0.005059</td>\n",
       "    </tr>\n",
       "    <tr>\n",
       "      <th>4</th>\n",
       "      <td>IND</td>\n",
       "      <td>India</td>\n",
       "      <td>IND.1_1</td>\n",
       "      <td>Andaman and Nicobar</td>\n",
       "      <td>IND.1.2_1</td>\n",
       "      <td>North and Middle Andaman</td>\n",
       "      <td>2000-05-01</td>\n",
       "      <td>27.479309</td>\n",
       "      <td>0.009505</td>\n",
       "    </tr>\n",
       "  </tbody>\n",
       "</table>\n",
       "</div>"
      ],
      "text/plain": [
       "  GID_0 NAME_0    GID_1               NAME_1      GID_2  \\\n",
       "0   IND  India  IND.1_1  Andaman and Nicobar  IND.1.2_1   \n",
       "1   IND  India  IND.1_1  Andaman and Nicobar  IND.1.2_1   \n",
       "2   IND  India  IND.1_1  Andaman and Nicobar  IND.1.2_1   \n",
       "3   IND  India  IND.1_1  Andaman and Nicobar  IND.1.2_1   \n",
       "4   IND  India  IND.1_1  Andaman and Nicobar  IND.1.2_1   \n",
       "\n",
       "                     NAME_2       time        t2m        tp  \n",
       "0  North and Middle Andaman 2000-01-01  25.948486  0.000254  \n",
       "1  North and Middle Andaman 2000-02-01  25.903374  0.001822  \n",
       "2  North and Middle Andaman 2000-03-01  26.487930  0.005368  \n",
       "3  North and Middle Andaman 2000-04-01  27.429024  0.005059  \n",
       "4  North and Middle Andaman 2000-05-01  27.479309  0.009505  "
      ]
     },
     "execution_count": 84,
     "metadata": {},
     "output_type": "execute_result"
    }
   ],
   "source": [
    "india_districts_weather.head()"
   ]
  },
  {
   "cell_type": "code",
   "execution_count": 85,
   "metadata": {},
   "outputs": [],
   "source": [
    "# save as excel\n",
    "india_districts_weather.to_excel(r\"..\\4_data\\PROCESSED_DATA\\WEATHER\\india_districts_weather_data.xlsx\", index=False)"
   ]
  },
  {
   "cell_type": "markdown",
   "metadata": {},
   "source": [
    "Alternative method"
   ]
  },
  {
   "cell_type": "code",
   "execution_count": null,
   "metadata": {},
   "outputs": [],
   "source": [
    "# # Create mask of multiple regions from shapefile\n",
    "# india_mask = regionmask.mask_3D_geopandas(\n",
    "#         india_districts_shapefile,\n",
    "#         climate_data.longitude,\n",
    "#         climate_data.latitude,\n",
    "#         drop=True,\n",
    "#         numbers=\"index\"\n",
    "#     )\n",
    "# # Apply the mask to the xarray data\n",
    "# climate_data_masked = climate_data.where(india_mask)\n",
    "# # Calculate mean values per district, per time step\n",
    "# mean_values = climate_data_masked.groupby('time').mean(dim=['latitude', 'longitude'])\n",
    "# # Convert values to dataframe\n",
    "# df_mean_values = mean_values.to_dataframe().reset_index()\n",
    "# # Query to keep data up to end of 2022 and keep only expver 1\n",
    "# df_mean_values = df_mean_values.query('expver == 1')\n",
    "# df_mean_values = df_mean_values.query('time < \"2023-01-01\"')\n",
    "# # join to shapefile, df_mean_values region matches to shapefile index column\n",
    "# india_districts_shapefile = india_districts_shapefile.merge(df_mean_values, left_on='index', right_on='region')\n",
    "# india_districts_shapefile"
   ]
  }
 ],
 "metadata": {
  "kernelspec": {
   "display_name": "xarray_test",
   "language": "python",
   "name": "python3"
  },
  "language_info": {
   "codemirror_mode": {
    "name": "ipython",
    "version": 3
   },
   "file_extension": ".py",
   "mimetype": "text/x-python",
   "name": "python",
   "nbconvert_exporter": "python",
   "pygments_lexer": "ipython3",
   "version": "3.8.16"
  }
 },
 "nbformat": 4,
 "nbformat_minor": 2
}
