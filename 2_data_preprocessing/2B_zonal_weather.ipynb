{
 "cells": [
  {
   "cell_type": "code",
   "execution_count": 1,
   "metadata": {},
   "outputs": [],
   "source": [
    "# Import necessary libraries\n",
    "import xarray as xr\n",
    "import cdsapi\n",
    "import xarray as xr\n",
    "import rioxarray\n",
    "import geopandas as gpd\n",
    "import rasterio as rio\n",
    "import matplotlib.pyplot as plt\n",
    "import numpy as np\n",
    "from shapely.geometry import Polygon\n",
    "import os  "
   ]
  },
  {
   "cell_type": "code",
   "execution_count": 2,
   "metadata": {},
   "outputs": [],
   "source": [
    "# Load India shapefile\n",
    "india_shapefile = gpd.read_file(r\"C:\\Users\\djava\\OneDrive\\Documents\\Oxford\\Projects\\india_rice_early_warning\\4_data\\RAW_DATA\\SHAPEFILE\\gadm36_IND_0.shp\").to_crs(\"epsg:4326\")\n",
    "india_geometry = india_shapefile.geometry"
   ]
  },
  {
   "cell_type": "code",
   "execution_count": 4,
   "metadata": {},
   "outputs": [],
   "source": [
    "# Load Climate data (.nc format)\n",
    "climate_data = xr.open_dataset(r\"C:\\Users\\djava\\OneDrive\\Documents\\Oxford\\Projects\\india_rice_early_warning\\4_data\\RAW_DATA\\CDS\\weather_data.nc\")"
   ]
  },
  {
   "cell_type": "code",
   "execution_count": null,
   "metadata": {},
   "outputs": [],
   "source": []
  }
 ],
 "metadata": {
  "kernelspec": {
   "display_name": "xarray_test",
   "language": "python",
   "name": "python3"
  },
  "language_info": {
   "codemirror_mode": {
    "name": "ipython",
    "version": 3
   },
   "file_extension": ".py",
   "mimetype": "text/x-python",
   "name": "python",
   "nbconvert_exporter": "python",
   "pygments_lexer": "ipython3",
   "version": "3.8.16"
  }
 },
 "nbformat": 4,
 "nbformat_minor": 2
}
