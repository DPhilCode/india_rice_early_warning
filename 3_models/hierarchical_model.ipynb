{
 "cells": [
  {
   "cell_type": "markdown",
   "metadata": {},
   "source": [
    "### Build hierarchical model\n",
    "- Objective: this notebook does XX"
   ]
  },
  {
   "cell_type": "code",
   "execution_count": 41,
   "metadata": {},
   "outputs": [],
   "source": [
    "# Import modules\n",
    "import statsmodels\n",
    "import pandas as pd\n",
    "import openpyxl\n",
    "import numpy as np\n"
   ]
  },
  {
   "cell_type": "code",
   "execution_count": 32,
   "metadata": {},
   "outputs": [],
   "source": [
    "# Import analysis ready yield data C:\\Users\\djava\\OneDrive\\Documents\\Oxford\\Projects\\india_rice_early_warning\\4_data\\PROCESSED_DATA\\ANALYSIS_READY\\india_yield_weather_ndvi.xlsx\n",
    "df_yield = pd.read_excel(r'C:\\Users\\djava\\OneDrive\\Documents\\Oxford\\Projects\\india_rice_early_warning\\4_data\\PROCESSED_DATA\\ANALYSIS_READY\\india_yield_weather_ndvi.xlsx', sheet_name='Sheet1')"
   ]
  },
  {
   "cell_type": "code",
   "execution_count": 33,
   "metadata": {},
   "outputs": [],
   "source": [
    "# Filter out 2021\n",
    "df_yield = df_yield[df_yield['year'] != 2021]"
   ]
  },
  {
   "cell_type": "code",
   "execution_count": 34,
   "metadata": {},
   "outputs": [],
   "source": [
    "# Drop all the columns with NDVI in the name \n",
    "df_yield = df_yield[df_yield.columns.drop(list(df_yield.filter(regex='NDVI')))]"
   ]
  },
  {
   "cell_type": "code",
   "execution_count": 35,
   "metadata": {},
   "outputs": [],
   "source": [
    "# Drop the GID_2s where nan values occur in the whole df\n",
    "df_yield = df_yield.dropna()\n"
   ]
  },
  {
   "cell_type": "code",
   "execution_count": 36,
   "metadata": {},
   "outputs": [],
   "source": [
    "# Convert GID_2 to category\n",
    "df_yield['GID_2'] = df_yield['GID_2'].astype('category')"
   ]
  },
  {
   "cell_type": "code",
   "execution_count": 37,
   "metadata": {},
   "outputs": [
    {
     "data": {
      "text/plain": [
       "Index(['GID_2', 'State', 'District', 'year', 'Season', 'Area_ha',\n",
       "       'Production_t', 'Yield_t_ha', 'LAI May', 'LAI June', 'LAI July',\n",
       "       'LAI August', 'LAI September', 'LAI October', 'LAI November', 'PEV May',\n",
       "       'PEV June', 'PEV July', 'PEV August', 'PEV September', 'PEV October',\n",
       "       'PEV November', 'SP May', 'SP June', 'SP July', 'SP August',\n",
       "       'SP September', 'SP October', 'SP November', 'SWVL1 May', 'SWVL1 June',\n",
       "       'SWVL1 July', 'SWVL1 August', 'SWVL1 September', 'SWVL1 October',\n",
       "       'SWVL1 November', 'Temperature May', 'Temperature June',\n",
       "       'Temperature July', 'Temperature August', 'Temperature September',\n",
       "       'Temperature October', 'Temperature November', 'Precipitation May',\n",
       "       'Precipitation June', 'Precipitation July', 'Precipitation August',\n",
       "       'Precipitation September', 'Precipitation October',\n",
       "       'Precipitation November'],\n",
       "      dtype='object')"
      ]
     },
     "execution_count": 37,
     "metadata": {},
     "output_type": "execute_result"
    }
   ],
   "source": [
    "# List of column names\n",
    "df_yield.columns"
   ]
  },
  {
   "cell_type": "code",
   "execution_count": 38,
   "metadata": {},
   "outputs": [
    {
     "name": "stdout",
     "output_type": "stream",
     "text": [
      "Yield_t_ha ~ LAI May + LAI June + LAI July + LAI August + LAI September + LAI October + LAI November + PEV May + PEV June + PEV July + PEV August + PEV September + PEV October + PEV November + SP May + SP June + SP July + SP August + SP September + SP October + SP November + SWVL1 May + SWVL1 June + SWVL1 July + SWVL1 August + SWVL1 September + SWVL1 October + SWVL1 November + Temperature May + Temperature June + Temperature July + Temperature August + Temperature September + Temperature October + Temperature November + Precipitation May + Precipitation June + Precipitation July + Precipitation August + Precipitation September + Precipitation October + Precipitation November\n"
     ]
    }
   ],
   "source": [
    "# Simplified model formula (start with this and then add more variables)\n",
    "model_formula = \"Yield_t_ha ~ \"\n",
    "\n",
    "# Now adapt formula with all column names from LAI May to Precipitation November\n",
    "for col in df_yield.columns[8:50]:  # Adjusted indices to include the desired columns\n",
    "    model_formula += col + \" + \"\n",
    "\n",
    "# Remove the last extra ' + '\n",
    "model_formula = model_formula.rstrip(' + ')\n",
    "\n",
    "print(model_formula)"
   ]
  },
  {
   "cell_type": "code",
   "execution_count": 39,
   "metadata": {},
   "outputs": [
    {
     "data": {
      "text/plain": [
       "'Yield_t_ha ~ LAI May + LAI June + LAI July + LAI August + LAI September + LAI October + LAI November + PEV May + PEV June + PEV July + PEV August + PEV September + PEV October + PEV November + SP May + SP June + SP July + SP August + SP September + SP October + SP November + SWVL1 May + SWVL1 June + SWVL1 July + SWVL1 August + SWVL1 September + SWVL1 October + SWVL1 November + Temperature May + Temperature June + Temperature July + Temperature August + Temperature September + Temperature October + Temperature November + Precipitation May + Precipitation June + Precipitation July + Precipitation August + Precipitation September + Precipitation October + Precipitation November'"
      ]
     },
     "execution_count": 39,
     "metadata": {},
     "output_type": "execute_result"
    }
   ],
   "source": [
    "model_formula"
   ]
  },
  {
   "cell_type": "markdown",
   "metadata": {},
   "source": []
  },
  {
   "cell_type": "code",
   "execution_count": 43,
   "metadata": {},
   "outputs": [
    {
     "ename": "AttributeError",
     "evalue": "module 'statsmodels' has no attribute 'mixedlm'",
     "output_type": "error",
     "traceback": [
      "\u001b[1;31m---------------------------------------------------------------------------\u001b[0m",
      "\u001b[1;31mAttributeError\u001b[0m                            Traceback (most recent call last)",
      "Cell \u001b[1;32mIn[43], line 2\u001b[0m\n\u001b[0;32m      1\u001b[0m \u001b[38;5;66;03m# Fit the model with 'District' as a grouping variable (random effect)\u001b[39;00m\n\u001b[1;32m----> 2\u001b[0m mixedlm_model \u001b[38;5;241m=\u001b[39m \u001b[43mstatsmodels\u001b[49m\u001b[38;5;241;43m.\u001b[39;49m\u001b[43mmixedlm\u001b[49m(model_formula, df_yield, groups\u001b[38;5;241m=\u001b[39mdf_yield[\u001b[38;5;124m\"\u001b[39m\u001b[38;5;124mDistrict\u001b[39m\u001b[38;5;124m\"\u001b[39m])\n\u001b[0;32m      3\u001b[0m mixedlm_result \u001b[38;5;241m=\u001b[39m mixedlm_model\u001b[38;5;241m.\u001b[39mfit()\n\u001b[0;32m      5\u001b[0m \u001b[38;5;66;03m# Print the summary\u001b[39;00m\n",
      "\u001b[1;31mAttributeError\u001b[0m: module 'statsmodels' has no attribute 'mixedlm'"
     ]
    }
   ],
   "source": [
    "# Fit the model with 'District' as a grouping variable (random effect)\n",
    "mixedlm_model = statsmodels.mixedlm(model_formula, df_yield, groups=df_yield[\"District\"])\n",
    "mixedlm_result = mixedlm_model.fit()\n",
    "\n",
    "# Print the summary\n",
    "print(mixedlm_result.summary())"
   ]
  },
  {
   "cell_type": "code",
   "execution_count": 29,
   "metadata": {},
   "outputs": [
    {
     "data": {
      "text/html": [
       "<table class=\"simpletable\">\n",
       "<tr>\n",
       "       <td>Model:</td>       <td>MixedLM</td> <td>Dependent Variable:</td> <td>Yield_t_ha</td>\n",
       "</tr>\n",
       "<tr>\n",
       "  <td>No. Observations:</td>  <td>4571</td>         <td>Method:</td>          <td>REML</td>   \n",
       "</tr>\n",
       "<tr>\n",
       "     <td>No. Groups:</td>      <td>227</td>         <td>Scale:</td>          <td>0.1522</td>  \n",
       "</tr>\n",
       "<tr>\n",
       "  <td>Min. group size:</td>    <td>18</td>      <td>Log-Likelihood:</td>   <td>-2725.7643</td>\n",
       "</tr>\n",
       "<tr>\n",
       "  <td>Max. group size:</td>    <td>40</td>        <td>Converged:</td>          <td>Yes</td>   \n",
       "</tr>\n",
       "<tr>\n",
       "  <td>Mean group size:</td>   <td>20.1</td>            <td></td>                <td></td>     \n",
       "</tr>\n",
       "</table>\n",
       "<table class=\"simpletable\">\n",
       "<tr>\n",
       "      <td></td>       <th>Coef.</th>  <th>Std.Err.</th>    <th>z</th>   <th>P>|z|</th> <th>[0.025</th>  <th>0.975]</th>\n",
       "</tr>\n",
       "<tr>\n",
       "  <th>Intercept</th> <td>-3.372</td>    <td>0.391</td>  <td>-8.629</td> <td>0.000</td> <td>-4.138</td>  <td>-2.606</td>\n",
       "</tr>\n",
       "<tr>\n",
       "  <th>t2m_5</th>     <td>-0.018</td>    <td>0.008</td>  <td>-2.319</td> <td>0.020</td> <td>-0.033</td>  <td>-0.003</td>\n",
       "</tr>\n",
       "<tr>\n",
       "  <th>t2m_6</th>     <td>-0.017</td>    <td>0.007</td>  <td>-2.384</td> <td>0.017</td> <td>-0.031</td>  <td>-0.003</td>\n",
       "</tr>\n",
       "<tr>\n",
       "  <th>t2m_7</th>      <td>0.053</td>    <td>0.010</td>   <td>5.340</td> <td>0.000</td>  <td>0.033</td>   <td>0.072</td>\n",
       "</tr>\n",
       "<tr>\n",
       "  <th>t2m_8</th>      <td>0.040</td>    <td>0.015</td>   <td>2.600</td> <td>0.009</td>  <td>0.010</td>   <td>0.070</td>\n",
       "</tr>\n",
       "<tr>\n",
       "  <th>t2m_9</th>      <td>0.036</td>    <td>0.011</td>   <td>3.225</td> <td>0.001</td>  <td>0.014</td>   <td>0.058</td>\n",
       "</tr>\n",
       "<tr>\n",
       "  <th>t2m_10</th>     <td>0.053</td>    <td>0.010</td>   <td>5.148</td> <td>0.000</td>  <td>0.033</td>   <td>0.074</td>\n",
       "</tr>\n",
       "<tr>\n",
       "  <th>t2m_11</th>    <td>-0.009</td>    <td>0.008</td>  <td>-1.160</td> <td>0.246</td> <td>-0.025</td>   <td>0.006</td>\n",
       "</tr>\n",
       "<tr>\n",
       "  <th>tp_5</th>      <td>-10.378</td>   <td>3.724</td>  <td>-2.787</td> <td>0.005</td> <td>-17.676</td> <td>-3.080</td>\n",
       "</tr>\n",
       "<tr>\n",
       "  <th>tp_6</th>      <td>-5.497</td>    <td>2.439</td>  <td>-2.253</td> <td>0.024</td> <td>-10.278</td> <td>-0.715</td>\n",
       "</tr>\n",
       "<tr>\n",
       "  <th>tp_7</th>       <td>3.154</td>    <td>1.792</td>   <td>1.760</td> <td>0.078</td> <td>-0.358</td>   <td>6.667</td>\n",
       "</tr>\n",
       "<tr>\n",
       "  <th>tp_8</th>       <td>5.774</td>    <td>2.196</td>   <td>2.629</td> <td>0.009</td>  <td>1.469</td>  <td>10.079</td>\n",
       "</tr>\n",
       "<tr>\n",
       "  <th>tp_9</th>       <td>3.757</td>    <td>2.327</td>   <td>1.615</td> <td>0.106</td> <td>-0.803</td>   <td>8.317</td>\n",
       "</tr>\n",
       "<tr>\n",
       "  <th>tp_10</th>      <td>8.952</td>    <td>3.906</td>   <td>2.292</td> <td>0.022</td>  <td>1.296</td>  <td>16.608</td>\n",
       "</tr>\n",
       "<tr>\n",
       "  <th>tp_11</th>      <td>8.530</td>    <td>6.106</td>   <td>1.397</td> <td>0.162</td> <td>-3.438</td>  <td>20.498</td>\n",
       "</tr>\n",
       "<tr>\n",
       "  <th>NDVI_5</th>     <td>1.569</td>    <td>0.245</td>   <td>6.398</td> <td>0.000</td>  <td>1.088</td>   <td>2.049</td>\n",
       "</tr>\n",
       "<tr>\n",
       "  <th>NDVI_6</th>     <td>0.564</td>    <td>0.146</td>   <td>3.863</td> <td>0.000</td>  <td>0.278</td>   <td>0.850</td>\n",
       "</tr>\n",
       "<tr>\n",
       "  <th>NDVI_7</th>    <td>-0.548</td>    <td>0.098</td>  <td>-5.574</td> <td>0.000</td> <td>-0.740</td>  <td>-0.355</td>\n",
       "</tr>\n",
       "<tr>\n",
       "  <th>NDVI_8</th>     <td>0.714</td>    <td>0.149</td>   <td>4.781</td> <td>0.000</td>  <td>0.422</td>   <td>1.007</td>\n",
       "</tr>\n",
       "<tr>\n",
       "  <th>NDVI_9</th>     <td>1.755</td>    <td>0.233</td>   <td>7.539</td> <td>0.000</td>  <td>1.299</td>   <td>2.211</td>\n",
       "</tr>\n",
       "<tr>\n",
       "  <th>NDVI_10</th>    <td>0.564</td>    <td>0.220</td>   <td>2.569</td> <td>0.010</td>  <td>0.134</td>   <td>0.994</td>\n",
       "</tr>\n",
       "<tr>\n",
       "  <th>NDVI_11</th>   <td>-1.019</td>    <td>0.241</td>  <td>-4.234</td> <td>0.000</td> <td>-1.490</td>  <td>-0.547</td>\n",
       "</tr>\n",
       "<tr>\n",
       "  <th>Group Var</th>  <td>0.811</td>    <td>0.224</td>     <td></td>      <td></td>       <td></td>        <td></td>   \n",
       "</tr>\n",
       "</table><br/>\n"
      ],
      "text/latex": [
       "\\begin{table}\n",
       "\\caption{Mixed Linear Model Regression Results}\n",
       "\\label{}\n",
       "\\begin{center}\n",
       "\\begin{tabular}{llll}\n",
       "\\hline\n",
       "Model:            & MixedLM & Dependent Variable: & Yield\\_t\\_ha  \\\\\n",
       "No. Observations: & 4571    & Method:             & REML          \\\\\n",
       "No. Groups:       & 227     & Scale:              & 0.1522        \\\\\n",
       "Min. group size:  & 18      & Log-Likelihood:     & -2725.7643    \\\\\n",
       "Max. group size:  & 40      & Converged:          & Yes           \\\\\n",
       "Mean group size:  & 20.1    &                     &               \\\\\n",
       "\\hline\n",
       "\\end{tabular}\n",
       "\\end{center}\n",
       "\n",
       "\\begin{center}\n",
       "\\begin{tabular}{lrrrrrr}\n",
       "\\hline\n",
       "          &   Coef. & Std.Err. &      z & P$> |$z$|$ &  [0.025 & 0.975]  \\\\\n",
       "\\hline\n",
       "Intercept &  -3.372 &    0.391 & -8.629 &       0.000 &  -4.138 & -2.606  \\\\\n",
       "t2m\\_5    &  -0.018 &    0.008 & -2.319 &       0.020 &  -0.033 & -0.003  \\\\\n",
       "t2m\\_6    &  -0.017 &    0.007 & -2.384 &       0.017 &  -0.031 & -0.003  \\\\\n",
       "t2m\\_7    &   0.053 &    0.010 &  5.340 &       0.000 &   0.033 &  0.072  \\\\\n",
       "t2m\\_8    &   0.040 &    0.015 &  2.600 &       0.009 &   0.010 &  0.070  \\\\\n",
       "t2m\\_9    &   0.036 &    0.011 &  3.225 &       0.001 &   0.014 &  0.058  \\\\\n",
       "t2m\\_10   &   0.053 &    0.010 &  5.148 &       0.000 &   0.033 &  0.074  \\\\\n",
       "t2m\\_11   &  -0.009 &    0.008 & -1.160 &       0.246 &  -0.025 &  0.006  \\\\\n",
       "tp\\_5     & -10.378 &    3.724 & -2.787 &       0.005 & -17.676 & -3.080  \\\\\n",
       "tp\\_6     &  -5.497 &    2.439 & -2.253 &       0.024 & -10.278 & -0.715  \\\\\n",
       "tp\\_7     &   3.154 &    1.792 &  1.760 &       0.078 &  -0.358 &  6.667  \\\\\n",
       "tp\\_8     &   5.774 &    2.196 &  2.629 &       0.009 &   1.469 & 10.079  \\\\\n",
       "tp\\_9     &   3.757 &    2.327 &  1.615 &       0.106 &  -0.803 &  8.317  \\\\\n",
       "tp\\_10    &   8.952 &    3.906 &  2.292 &       0.022 &   1.296 & 16.608  \\\\\n",
       "tp\\_11    &   8.530 &    6.106 &  1.397 &       0.162 &  -3.438 & 20.498  \\\\\n",
       "NDVI\\_5   &   1.569 &    0.245 &  6.398 &       0.000 &   1.088 &  2.049  \\\\\n",
       "NDVI\\_6   &   0.564 &    0.146 &  3.863 &       0.000 &   0.278 &  0.850  \\\\\n",
       "NDVI\\_7   &  -0.548 &    0.098 & -5.574 &       0.000 &  -0.740 & -0.355  \\\\\n",
       "NDVI\\_8   &   0.714 &    0.149 &  4.781 &       0.000 &   0.422 &  1.007  \\\\\n",
       "NDVI\\_9   &   1.755 &    0.233 &  7.539 &       0.000 &   1.299 &  2.211  \\\\\n",
       "NDVI\\_10  &   0.564 &    0.220 &  2.569 &       0.010 &   0.134 &  0.994  \\\\\n",
       "NDVI\\_11  &  -1.019 &    0.241 & -4.234 &       0.000 &  -1.490 & -0.547  \\\\\n",
       "Group Var &   0.811 &    0.224 &        &             &         &         \\\\\n",
       "\\hline\n",
       "\\end{tabular}\n",
       "\\end{center}\n",
       "\\end{table}\n",
       "\\bigskip\n"
      ],
      "text/plain": [
       "<class 'statsmodels.iolib.summary2.Summary'>\n",
       "\"\"\"\n",
       "         Mixed Linear Model Regression Results\n",
       "========================================================\n",
       "Model:            MixedLM Dependent Variable: Yield_t_ha\n",
       "No. Observations: 4571    Method:             REML      \n",
       "No. Groups:       227     Scale:              0.1522    \n",
       "Min. group size:  18      Log-Likelihood:     -2725.7643\n",
       "Max. group size:  40      Converged:          Yes       \n",
       "Mean group size:  20.1                                  \n",
       "--------------------------------------------------------\n",
       "             Coef.  Std.Err.   z    P>|z|  [0.025 0.975]\n",
       "--------------------------------------------------------\n",
       "Intercept    -3.372    0.391 -8.629 0.000  -4.138 -2.606\n",
       "t2m_5        -0.018    0.008 -2.319 0.020  -0.033 -0.003\n",
       "t2m_6        -0.017    0.007 -2.384 0.017  -0.031 -0.003\n",
       "t2m_7         0.053    0.010  5.340 0.000   0.033  0.072\n",
       "t2m_8         0.040    0.015  2.600 0.009   0.010  0.070\n",
       "t2m_9         0.036    0.011  3.225 0.001   0.014  0.058\n",
       "t2m_10        0.053    0.010  5.148 0.000   0.033  0.074\n",
       "t2m_11       -0.009    0.008 -1.160 0.246  -0.025  0.006\n",
       "tp_5        -10.378    3.724 -2.787 0.005 -17.676 -3.080\n",
       "tp_6         -5.497    2.439 -2.253 0.024 -10.278 -0.715\n",
       "tp_7          3.154    1.792  1.760 0.078  -0.358  6.667\n",
       "tp_8          5.774    2.196  2.629 0.009   1.469 10.079\n",
       "tp_9          3.757    2.327  1.615 0.106  -0.803  8.317\n",
       "tp_10         8.952    3.906  2.292 0.022   1.296 16.608\n",
       "tp_11         8.530    6.106  1.397 0.162  -3.438 20.498\n",
       "NDVI_5        1.569    0.245  6.398 0.000   1.088  2.049\n",
       "NDVI_6        0.564    0.146  3.863 0.000   0.278  0.850\n",
       "NDVI_7       -0.548    0.098 -5.574 0.000  -0.740 -0.355\n",
       "NDVI_8        0.714    0.149  4.781 0.000   0.422  1.007\n",
       "NDVI_9        1.755    0.233  7.539 0.000   1.299  2.211\n",
       "NDVI_10       0.564    0.220  2.569 0.010   0.134  0.994\n",
       "NDVI_11      -1.019    0.241 -4.234 0.000  -1.490 -0.547\n",
       "Group Var     0.811    0.224                            \n",
       "========================================================\n",
       "\n",
       "\"\"\""
      ]
     },
     "execution_count": 29,
     "metadata": {},
     "output_type": "execute_result"
    }
   ],
   "source": [
    "# Assuming your DataFrame is named df\n",
    "# You may need to adjust the formula based on your specific needs\n",
    "model_formula = \"Yield_t_ha ~ t2m_5 + t2m_6 + t2m_7 + t2m_8 + t2m_9 + t2m_10 + t2m_11 + tp_5 + tp_6 + tp_7 + tp_8 + tp_9 + tp_10 + tp_11 + NDVI_5 + NDVI_6 + NDVI_7 + NDVI_8 + NDVI_9 + NDVI_10 + NDVI_11\"\n",
    "\n",
    "# Fit the model\n",
    "mixedlm_model = smf.mixedlm(model_formula, df_yield, groups=df_yield[\"District\"])\n",
    "mixedlm_result = mixedlm_model.fit()\n",
    "\n",
    "# Print the summary\n",
    "mixedlm_result.summary()"
   ]
  },
  {
   "cell_type": "code",
   "execution_count": 50,
   "metadata": {},
   "outputs": [
    {
     "data": {
      "text/plain": [
       "0       2.130052\n",
       "1       2.201793\n",
       "2       1.850127\n",
       "3       1.939801\n",
       "4       2.012307\n",
       "          ...   \n",
       "5115    2.139775\n",
       "5116    2.321583\n",
       "5117    2.087893\n",
       "5118    2.199543\n",
       "5119    2.497401\n",
       "Length: 4571, dtype: float64"
      ]
     },
     "execution_count": 50,
     "metadata": {},
     "output_type": "execute_result"
    }
   ],
   "source": [
    "mixedlm_result.fittedvalues"
   ]
  },
  {
   "cell_type": "code",
   "execution_count": 46,
   "metadata": {},
   "outputs": [],
   "source": [
    "# Make a new df_yield_test with on district in 2020 and run the model to make a prediction\n",
    "df_yield_test = df_yield[(df_yield['District'] == 'Dhamtari') & (df_yield['year'] == 2018)]"
   ]
  },
  {
   "cell_type": "code",
   "execution_count": 47,
   "metadata": {},
   "outputs": [
    {
     "data": {
      "text/html": [
       "<div>\n",
       "<style scoped>\n",
       "    .dataframe tbody tr th:only-of-type {\n",
       "        vertical-align: middle;\n",
       "    }\n",
       "\n",
       "    .dataframe tbody tr th {\n",
       "        vertical-align: top;\n",
       "    }\n",
       "\n",
       "    .dataframe thead th {\n",
       "        text-align: right;\n",
       "    }\n",
       "</style>\n",
       "<table border=\"1\" class=\"dataframe\">\n",
       "  <thead>\n",
       "    <tr style=\"text-align: right;\">\n",
       "      <th></th>\n",
       "      <th>GID_2</th>\n",
       "      <th>State</th>\n",
       "      <th>District</th>\n",
       "      <th>year</th>\n",
       "      <th>Season</th>\n",
       "      <th>Area_ha</th>\n",
       "      <th>Production_t</th>\n",
       "      <th>Yield_t_ha</th>\n",
       "      <th>t2m_5</th>\n",
       "      <th>t2m_6</th>\n",
       "      <th>...</th>\n",
       "      <th>tp_9</th>\n",
       "      <th>tp_10</th>\n",
       "      <th>tp_11</th>\n",
       "      <th>NDVI_5</th>\n",
       "      <th>NDVI_6</th>\n",
       "      <th>NDVI_7</th>\n",
       "      <th>NDVI_8</th>\n",
       "      <th>NDVI_9</th>\n",
       "      <th>NDVI_10</th>\n",
       "      <th>NDVI_11</th>\n",
       "    </tr>\n",
       "  </thead>\n",
       "  <tbody>\n",
       "    <tr>\n",
       "      <th>5117</th>\n",
       "      <td>IND.7.9_1</td>\n",
       "      <td>Chhattisgarh</td>\n",
       "      <td>Dhamtari</td>\n",
       "      <td>2018</td>\n",
       "      <td>Kharif</td>\n",
       "      <td>144868.0</td>\n",
       "      <td>311175.0</td>\n",
       "      <td>2.14799</td>\n",
       "      <td>33.253918</td>\n",
       "      <td>29.833447</td>\n",
       "      <td>...</td>\n",
       "      <td>0.00659</td>\n",
       "      <td>0.000237</td>\n",
       "      <td>0.000016</td>\n",
       "      <td>0.330148</td>\n",
       "      <td>0.414741</td>\n",
       "      <td>0.565517</td>\n",
       "      <td>0.711291</td>\n",
       "      <td>0.754015</td>\n",
       "      <td>0.685228</td>\n",
       "      <td>0.503421</td>\n",
       "    </tr>\n",
       "  </tbody>\n",
       "</table>\n",
       "<p>1 rows × 29 columns</p>\n",
       "</div>"
      ],
      "text/plain": [
       "          GID_2         State  District  year  Season   Area_ha  Production_t  \\\n",
       "5117  IND.7.9_1  Chhattisgarh  Dhamtari  2018  Kharif  144868.0      311175.0   \n",
       "\n",
       "      Yield_t_ha      t2m_5      t2m_6  ...     tp_9     tp_10     tp_11  \\\n",
       "5117     2.14799  33.253918  29.833447  ...  0.00659  0.000237  0.000016   \n",
       "\n",
       "        NDVI_5    NDVI_6    NDVI_7    NDVI_8    NDVI_9   NDVI_10   NDVI_11  \n",
       "5117  0.330148  0.414741  0.565517  0.711291  0.754015  0.685228  0.503421  \n",
       "\n",
       "[1 rows x 29 columns]"
      ]
     },
     "execution_count": 47,
     "metadata": {},
     "output_type": "execute_result"
    }
   ],
   "source": [
    "df_yield_test"
   ]
  },
  {
   "cell_type": "code",
   "execution_count": 48,
   "metadata": {},
   "outputs": [],
   "source": [
    "# Predict yield\n",
    "predicted_yield = mixedlm_result.predict(df_yield_test)"
   ]
  },
  {
   "cell_type": "code",
   "execution_count": 53,
   "metadata": {},
   "outputs": [
    {
     "name": "stdout",
     "output_type": "stream",
     "text": [
      "Mean Absolute Error (MAE): 0.2833682498179813\n"
     ]
    }
   ],
   "source": [
    "# Assuming df is your original DataFrame used for modeling, and it includes the observed 'Yield_t_ha'\n",
    "observed_yields = df_yield['Yield_t_ha']\n",
    "predicted_yields = mixedlm_result.fittedvalues\n",
    "\n",
    "# Calculate MAE\n",
    "mae = np.mean(np.abs(predicted_yields - observed_yields))\n",
    "print(f\"Mean Absolute Error (MAE): {mae}\")"
   ]
  },
  {
   "cell_type": "code",
   "execution_count": 54,
   "metadata": {},
   "outputs": [
    {
     "data": {
      "text/plain": [
       "Raigarh          40\n",
       "Bilaspur         40\n",
       "Agra             20\n",
       "Muzaffarnagar    20\n",
       "Mandi            20\n",
       "                 ..\n",
       "Champawat         0\n",
       "Bid               0\n",
       "Chamoli           0\n",
       "Bishnupur         0\n",
       "Dhaulpur          0\n",
       "Name: District, Length: 254, dtype: int64"
      ]
     },
     "execution_count": 54,
     "metadata": {},
     "output_type": "execute_result"
    }
   ],
   "source": [
    "# in df_yield check if there are duplicate district names. For example there could be two districts with the same name\n",
    "df_yield['District'].value_counts()"
   ]
  },
  {
   "cell_type": "code",
   "execution_count": null,
   "metadata": {},
   "outputs": [],
   "source": []
  }
 ],
 "metadata": {
  "kernelspec": {
   "display_name": "xarray_test",
   "language": "python",
   "name": "python3"
  },
  "language_info": {
   "codemirror_mode": {
    "name": "ipython",
    "version": 3
   },
   "file_extension": ".py",
   "mimetype": "text/x-python",
   "name": "python",
   "nbconvert_exporter": "python",
   "pygments_lexer": "ipython3",
   "version": "3.10.13"
  }
 },
 "nbformat": 4,
 "nbformat_minor": 2
}
